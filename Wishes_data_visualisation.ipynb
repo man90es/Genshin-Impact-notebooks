{
 "cells": [
  {
   "cell_type": "markdown",
   "id": "91d7f4b6",
   "metadata": {},
   "source": [
    "# Wishes data visualisation"
   ]
  },
  {
   "cell_type": "markdown",
   "id": "fcb3e6db",
   "metadata": {},
   "source": [
    "This notebook contains various graphs and data based on my personal gacha rolls. It is still WIP."
   ]
  },
  {
   "cell_type": "code",
   "execution_count": null,
   "id": "f6ec5946",
   "metadata": {},
   "outputs": [],
   "source": [
    "import numpy as np\n",
    "import pandas as pd\n",
    "import matplotlib.pyplot as plt\n",
    "import math"
   ]
  },
  {
   "cell_type": "code",
   "execution_count": null,
   "id": "b291cc9a",
   "metadata": {},
   "outputs": [],
   "source": [
    "df_perm = pd.read_csv(\"./datasets/wishes_permanent.csv\")\n",
    "df_lim = pd.read_csv(\"./datasets/wishes_character_event.csv\")"
   ]
  },
  {
   "cell_type": "code",
   "execution_count": null,
   "id": "427a4c96",
   "metadata": {},
   "outputs": [],
   "source": [
    "def count_sequence_lengths(_df, quality):\n",
    "    sequence_i = 0\n",
    "    df = _df.copy()\n",
    "    \n",
    "    def label_sequence(row, quality):\n",
    "        nonlocal sequence_i\n",
    "        \n",
    "        if (row[\"quality\"] == quality):\n",
    "            sequence_i = sequence_i + 1\n",
    "            return sequence_i - 1\n",
    "        else:\n",
    "            return sequence_i\n",
    "\n",
    "    df[\"sequence\"] = df.apply(lambda row: label_sequence(row, quality), axis=1)\n",
    "    should_trim = df.tail(1)[\"quality\"].values[0] != quality\n",
    "\n",
    "    df = df.groupby(\"sequence\").size()\n",
    "\n",
    "    if should_trim:\n",
    "        df.drop(df.tail(1).index, inplace=True)\n",
    "        \n",
    "    return df"
   ]
  },
  {
   "cell_type": "markdown",
   "id": "5fb3251a",
   "metadata": {},
   "source": [
    "## Lengths of roll sequences\n",
    "\n",
    "Genshin Impact has a so-called pity system: it guarantees that after a certain number of failure rolls you get a success roll: for 4* items it's 10, and for 5* items it's 90. Getting a 3* item is considered a failure. A roll sequence here is a set of rolls that starts right after the previous success and ends with another success.\n",
    "\n",
    "It was proven already that getting a 5* roll does not reset the 4* sequence, so they are analysed separately here."
   ]
  },
  {
   "cell_type": "code",
   "execution_count": null,
   "id": "6e581dd8",
   "metadata": {},
   "outputs": [],
   "source": [
    "def compare_seqs(seq_1, seq_2, pity):\n",
    "    seq_1_counts = seq_1.value_counts(normalize=True)\n",
    "    seq_2_counts = seq_2.value_counts(normalize=True)\n",
    "\n",
    "    x_axis = []\n",
    "    y_axis_1 = []\n",
    "    y_axis_2 = []\n",
    "    for x in range(1, pity + 1):\n",
    "        x_axis.append(x)\n",
    "        y_axis_1.append(seq_1_counts[x] if x in seq_1_counts.index else 0)\n",
    "        y_axis_2.append(seq_2_counts[x] if x in seq_2_counts.index else 0)\n",
    "\n",
    "    x_axis = np.array(x_axis)\n",
    "    width = 0.35\n",
    "\n",
    "    fig, ax = plt.subplots()\n",
    "    rects1 = ax.bar(x_axis - width / 2, y_axis_1, width, label=\"Permanent banner\")\n",
    "    rects2 = ax.bar(x_axis + width / 2, y_axis_2, width, label=\"Limited event banners\")\n",
    "\n",
    "    ax.set_ylabel(\"Resets %\")\n",
    "    ax.set_title(\"Success rolls distribution\")\n",
    "    ax.legend()\n",
    "\n",
    "    fig.tight_layout()\n",
    "    plt.show()"
   ]
  },
  {
   "cell_type": "markdown",
   "id": "5f1688b3",
   "metadata": {},
   "source": [
    "The text describing the wishes system within Genshin Impact is written in such a way that it makes you believe that the chance of success is constant. However, it's apparent on the graphs below that it's not. \n",
    "\n",
    "### Four-star item sequences\n",
    "\n",
    "Around 70% of the 4* items require either 9 or 10 rolls to get."
   ]
  },
  {
   "cell_type": "code",
   "execution_count": null,
   "id": "a7f3f78e",
   "metadata": {
    "scrolled": false
   },
   "outputs": [],
   "source": [
    "perm_4_seq = count_sequence_lengths(df_perm, 4)\n",
    "lim_4_seq = count_sequence_lengths(df_lim, 4)\n",
    "compare_seqs(perm_4_seq, lim_4_seq, 10)"
   ]
  },
  {
   "cell_type": "markdown",
   "id": "91540c6d",
   "metadata": {},
   "source": [
    "### Five-star item sequences\n",
    "\n",
    "Since 5* rolls are pretty rare and I only analyse my own data, the graph for them looks less interesting. For that reason, and to make bars wider than a few pixels, it combines adjacent successes by this logic:\n",
    "\n",
    "| Real  | On graph |\n",
    "| ----- | -------- |\n",
    "| 1-10  | 1        |\n",
    "| 11-20 | 2        |\n",
    "| 21-30 | 3        |\n",
    "| 31-40 | 4        |\n",
    "| 41-50 | 5        |\n",
    "| 51-60 | 6        |\n",
    "| 61-70 | 7        |\n",
    "| 71-80 | 8        |\n",
    "| 81-90 | 9        |\n",
    "\n",
    "Similarly to 4* items, most of the 5* items are obtained as a result of 71-80 rolls."
   ]
  },
  {
   "cell_type": "code",
   "execution_count": null,
   "id": "9524027a",
   "metadata": {},
   "outputs": [],
   "source": [
    "condense = lambda c: math.ceil(c / 10)\n",
    "\n",
    "perm_5_seq = count_sequence_lengths(df_perm, 5).apply(condense)\n",
    "lim_5_seq = count_sequence_lengths(df_lim, 5).apply(condense)\n",
    "compare_seqs(perm_5_seq, lim_5_seq, 9)"
   ]
  },
  {
   "cell_type": "markdown",
   "id": "3e064601",
   "metadata": {},
   "source": [
    "## Most common items\n",
    "\n",
    "Here are the top-10s of the most common items dropping from gacha. Many of them are \"unknown\" because I didn't bother writing down trash rolls at first.\n",
    "\n",
    "### Permanent banner"
   ]
  },
  {
   "cell_type": "code",
   "execution_count": null,
   "id": "31f93201",
   "metadata": {},
   "outputs": [],
   "source": [
    "df_perm[\"item\"].value_counts().head(11)"
   ]
  },
  {
   "cell_type": "markdown",
   "id": "eaa548e9",
   "metadata": {},
   "source": [
    "### Limited banners"
   ]
  },
  {
   "cell_type": "code",
   "execution_count": null,
   "id": "e25f88b4",
   "metadata": {
    "scrolled": true
   },
   "outputs": [],
   "source": [
    "df_lim[\"item\"].value_counts().head(11)"
   ]
  }
 ],
 "metadata": {
  "kernelspec": {
   "display_name": "Python 3 (ipykernel)",
   "language": "python",
   "name": "python3"
  },
  "language_info": {
   "codemirror_mode": {
    "name": "ipython",
    "version": 3
   },
   "file_extension": ".py",
   "mimetype": "text/x-python",
   "name": "python",
   "nbconvert_exporter": "python",
   "pygments_lexer": "ipython3",
   "version": "3.9.9"
  }
 },
 "nbformat": 4,
 "nbformat_minor": 5
}
