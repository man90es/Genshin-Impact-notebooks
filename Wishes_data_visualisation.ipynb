{
 "cells": [
  {
   "cell_type": "markdown",
   "id": "91d7f4b6",
   "metadata": {},
   "source": [
    "# Wishes data visualisation"
   ]
  },
  {
   "cell_type": "markdown",
   "id": "fcb3e6db",
   "metadata": {},
   "source": [
    "This notebook is work in progress."
   ]
  },
  {
   "cell_type": "code",
   "execution_count": null,
   "id": "f6ec5946",
   "metadata": {},
   "outputs": [],
   "source": [
    "import pandas as pd"
   ]
  },
  {
   "cell_type": "code",
   "execution_count": null,
   "id": "b291cc9a",
   "metadata": {},
   "outputs": [],
   "source": [
    "df_perm = pd.read_csv(\"./datasets/wishes_permanent.csv\")\n",
    "df_lim = pd.read_csv(\"./datasets/wishes_character_event.csv\")"
   ]
  },
  {
   "cell_type": "code",
   "execution_count": null,
   "id": "427a4c96",
   "metadata": {},
   "outputs": [],
   "source": [
    "def count_sequence_lengths(_df, quality):\n",
    "    sequence_i = 0\n",
    "    df = _df.copy()\n",
    "    \n",
    "    def label_sequence(row, quality):\n",
    "        nonlocal sequence_i\n",
    "        \n",
    "        if (row[\"quality\"] == quality):\n",
    "            sequence_i = sequence_i + 1\n",
    "            return sequence_i - 1\n",
    "        else:\n",
    "            return sequence_i\n",
    "\n",
    "    df[\"sequence\"] = df.apply(lambda row: label_sequence(row, quality), axis=1)\n",
    "    return df.groupby(\"sequence\").size()"
   ]
  },
  {
   "cell_type": "code",
   "execution_count": null,
   "id": "f119a666",
   "metadata": {
    "scrolled": true
   },
   "outputs": [],
   "source": [
    "print(count_sequence_lengths(df_perm, 5))"
   ]
  }
 ],
 "metadata": {
  "kernelspec": {
   "display_name": "Python 3 (ipykernel)",
   "language": "python",
   "name": "python3"
  },
  "language_info": {
   "codemirror_mode": {
    "name": "ipython",
    "version": 3
   },
   "file_extension": ".py",
   "mimetype": "text/x-python",
   "name": "python",
   "nbconvert_exporter": "python",
   "pygments_lexer": "ipython3",
   "version": "3.9.9"
  }
 },
 "nbformat": 4,
 "nbformat_minor": 5
}
