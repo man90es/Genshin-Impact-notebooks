{
 "cells": [
  {
   "cell_type": "code",
   "execution_count": null,
   "id": "083b6869",
   "metadata": {},
   "outputs": [],
   "source": [
    "import numpy as np\n",
    "import pandas as pd\n",
    "import matplotlib.pyplot as plt\n",
    "import datetime as dt"
   ]
  },
  {
   "cell_type": "code",
   "execution_count": null,
   "id": "f09e997b",
   "metadata": {},
   "outputs": [],
   "source": [
    "df = pd.read_csv(\"./datasets/characters.csv\")"
   ]
  },
  {
   "cell_type": "markdown",
   "id": "9f934410",
   "metadata": {},
   "source": [
    "## Simple data visualisation"
   ]
  },
  {
   "cell_type": "code",
   "execution_count": null,
   "id": "674cf26e",
   "metadata": {},
   "outputs": [],
   "source": [
    "def simple_visualisation(column):\n",
    "    fig, ax = plt.subplots(1, 2, figsize=(12,5), gridspec_kw={\"width_ratios\": [3, 5]})\n",
    "    fig.suptitle(f\"Playable character distribution by {column}\", fontsize=16)\n",
    "    ax[0].set_title(\"Current\", fontweight=\"bold\", pad=20)\n",
    "    ax[1].set_title(\"Historical\", fontweight=\"bold\", pad=20)\n",
    "\n",
    "    group_sizes = df.groupby(column, as_index=False).size()\n",
    "\n",
    "    ax[0].pie(group_sizes[\"size\"], labels=group_sizes[column], autopct=\"%1.1f%%\")\n",
    "\n",
    "    for column_val in group_sizes[column]:\n",
    "        column_val_by_date = df[getattr(df, column) == column_val].groupby(\"release\").size()\n",
    "\n",
    "        for date in reversed(column_val_by_date.axes[0]):\n",
    "            column_val_by_date[date] = column_val_by_date[column_val_by_date.axes[0] <= date].values.sum()\n",
    "\n",
    "        x_axis = list(map(dt.datetime.strptime, column_val_by_date.axes[0], len(column_val_by_date.axes[0]) * [\"%Y-%m-%d\"]))\n",
    "        y_axis = column_val_by_date.values.tolist()\n",
    "        x_axis.append(dt.date.today())\n",
    "        y_axis.append(y_axis[len(y_axis) - 1])\n",
    "        ax[1].step(x_axis, y_axis, label=column_val)\n",
    "\n",
    "    fig.tight_layout()\n",
    "    plt.show()\n",
    "\n",
    "    print(group_sizes)"
   ]
  },
  {
   "cell_type": "code",
   "execution_count": null,
   "id": "55195cee",
   "metadata": {},
   "outputs": [],
   "source": [
    "simple_visualisation(\"sex\")"
   ]
  },
  {
   "cell_type": "code",
   "execution_count": null,
   "id": "44fd241d",
   "metadata": {},
   "outputs": [],
   "source": [
    "simple_visualisation(\"body\")"
   ]
  },
  {
   "cell_type": "code",
   "execution_count": null,
   "id": "d4e0cca4",
   "metadata": {},
   "outputs": [],
   "source": [
    "simple_visualisation(\"weapon\")"
   ]
  },
  {
   "cell_type": "code",
   "execution_count": null,
   "id": "2da0c0dd",
   "metadata": {},
   "outputs": [],
   "source": [
    "simple_visualisation(\"region\")"
   ]
  },
  {
   "cell_type": "code",
   "execution_count": null,
   "id": "7589da2f",
   "metadata": {},
   "outputs": [],
   "source": [
    "simple_visualisation(\"vision\")"
   ]
  },
  {
   "cell_type": "code",
   "execution_count": null,
   "id": "be8cebcb",
   "metadata": {},
   "outputs": [],
   "source": [
    "simple_visualisation(\"quality\")"
   ]
  },
  {
   "cell_type": "markdown",
   "id": "f3590536",
   "metadata": {},
   "source": [
    "## Just having fun"
   ]
  },
  {
   "cell_type": "code",
   "execution_count": null,
   "id": "81c6f5e8",
   "metadata": {},
   "outputs": [],
   "source": [
    "avg_name_length_per_date = []\n",
    "\n",
    "for date in df.sort_values(\"release\", ascending=False)[\"release\"].unique():\n",
    "    avg_name_length_per_date.append((date, df[df.release <= date][\"name\"][df.name != \"traveller\"].apply(len).mean()))\n",
    "\n",
    "avg_name_length_per_date.reverse()\n",
    "avg_name_length_per_date = np.array(avg_name_length_per_date)\n",
    "x_axis = list(map(dt.datetime.strptime, avg_name_length_per_date[:,0], avg_name_length_per_date.shape[0] * [\"%Y-%m-%d\"]))\n",
    "y_axis = list(map(float, avg_name_length_per_date[:,1]))\n",
    "plt.plot(x_axis, y_axis)\n",
    "plt.title(\"Average playable character name length\")\n",
    "plt.show()"
   ]
  }
 ],
 "metadata": {
  "kernelspec": {
   "display_name": "Python 3 (ipykernel)",
   "language": "python",
   "name": "python3"
  },
  "language_info": {
   "codemirror_mode": {
    "name": "ipython",
    "version": 3
   },
   "file_extension": ".py",
   "mimetype": "text/x-python",
   "name": "python",
   "nbconvert_exporter": "python",
   "pygments_lexer": "ipython3",
   "version": "3.9.6"
  }
 },
 "nbformat": 4,
 "nbformat_minor": 5
}
