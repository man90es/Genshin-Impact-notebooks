{
 "cells": [
  {
   "cell_type": "markdown",
   "id": "ffcf6b0d",
   "metadata": {},
   "source": [
    "# Character data visualisation"
   ]
  },
  {
   "cell_type": "code",
   "execution_count": null,
   "id": "722e82d4",
   "metadata": {},
   "outputs": [],
   "source": [
    "import numpy as np\n",
    "import pandas as pd\n",
    "import matplotlib.pyplot as plt\n",
    "import datetime as dt\n",
    "import matplotlib.ticker as ticker"
   ]
  },
  {
   "cell_type": "code",
   "execution_count": null,
   "id": "f09e997b",
   "metadata": {},
   "outputs": [],
   "source": [
    "df = pd.read_csv(\"./datasets/characters.csv\")\n",
    "date_format = \"%Y-%m-%d\""
   ]
  },
  {
   "cell_type": "code",
   "execution_count": null,
   "id": "449a2523",
   "metadata": {},
   "outputs": [],
   "source": [
    "def label_age(row):\n",
    "    if row[\"body\"] == \"loli\":\n",
    "        return \"child\"\n",
    "    if row[\"body\"] == \"boy\" or row[\"body\"] == \"girl\" or row[\"body\"] == \"boy/girl\":\n",
    "        return \"teenage\"\n",
    "    if row[\"body\"] == \"male\" or row[\"body\"] == \"lady\":\n",
    "        return \"adult\"\n",
    "\n",
    "df[\"age\"] = df.apply(lambda row: label_age(row), axis=1)\n",
    "\n",
    "# Used for stretching all categories to the right\n",
    "max_date = dt.datetime.strptime(df[\"release\"].max(), date_format)"
   ]
  },
  {
   "cell_type": "markdown",
   "id": "9f934410",
   "metadata": {},
   "source": [
    "## Simple visualisation"
   ]
  },
  {
   "cell_type": "markdown",
   "id": "83687006",
   "metadata": {},
   "source": [
    "Visualising simple distributions here. Pie charts on the left show how characters are currently distributed within different categories (or how they were the last time when the dataset was updated). Graphs on the right show how the number of characters in each category changed over time."
   ]
  },
  {
   "cell_type": "code",
   "execution_count": null,
   "id": "674cf26e",
   "metadata": {},
   "outputs": [],
   "source": [
    "def simple_visualisation(column):\n",
    "    fig, ax = plt.subplots(1, 2, figsize=(12, 5), gridspec_kw={\"width_ratios\": [3, 5]})\n",
    "    fig.suptitle(f\"Playable character distribution by {column}\", fontsize=16)\n",
    "    ax[0].set_title(\"Current\", fontweight=\"bold\", pad=20)\n",
    "    ax[1].set_title(\"Historical\", fontweight=\"bold\", pad=20)\n",
    "    \n",
    "    # Only display whole values on the step graph y axis\n",
    "    ax[1].yaxis.set_major_locator(ticker.MaxNLocator(integer=True))\n",
    "\n",
    "    group_sizes = df.groupby(column, as_index=False).size()\n",
    "\n",
    "    ax[0].pie(group_sizes[\"size\"], labels=group_sizes[column], autopct=\"%1.1f%%\")\n",
    "\n",
    "    for column_val in group_sizes[column]:\n",
    "        column_val_by_date = df[getattr(df, column) == column_val].groupby(\"release\").size()\n",
    "\n",
    "        for date in reversed(column_val_by_date.axes[0]):\n",
    "            column_val_by_date[date] = column_val_by_date[column_val_by_date.axes[0] <= date].values.sum()\n",
    "\n",
    "        x_axis = list(map(dt.datetime.strptime, column_val_by_date.axes[0], len(column_val_by_date.axes[0]) * [date_format]))\n",
    "        y_axis = column_val_by_date.values.tolist()\n",
    "\n",
    "        # This should stretch all categories to the right\n",
    "        if (x_axis[len(x_axis) - 1] < max_date):\n",
    "            x_axis.append(max_date)\n",
    "            y_axis.append(y_axis[len(y_axis) - 1])\n",
    "\n",
    "        ax[1].step(x_axis, y_axis, label=column_val, marker=\"o\", markersize=4, where=\"post\")\n",
    "\n",
    "    fig.tight_layout()\n",
    "    plt.show()\n",
    "\n",
    "    print(group_sizes)"
   ]
  },
  {
   "cell_type": "markdown",
   "id": "6b6c8820",
   "metadata": {},
   "source": [
    "### Categorised by sex\n",
    "Since traveller's sex is selected by the player, he or she is listed in a separate category. You don't say, there are more female characters than male characters."
   ]
  },
  {
   "cell_type": "code",
   "execution_count": null,
   "id": "55195cee",
   "metadata": {},
   "outputs": [],
   "source": [
    "simple_visualisation(\"sex\")"
   ]
  },
  {
   "cell_type": "markdown",
   "id": "13340805",
   "metadata": {},
   "source": [
    "## Categorised by age"
   ]
  },
  {
   "cell_type": "markdown",
   "id": "3e71e139",
   "metadata": {},
   "source": [
    "It seems like the percentage of adult characters has risen over time, while the percentage of children got down."
   ]
  },
  {
   "cell_type": "code",
   "execution_count": null,
   "id": "34aedede",
   "metadata": {},
   "outputs": [],
   "source": [
    "simple_visualisation(\"age\")"
   ]
  },
  {
   "cell_type": "markdown",
   "id": "9611da8b",
   "metadata": {},
   "source": [
    "### Categorised by body type\n",
    "All playable characters in Genshin Impact use one of the five body templates with custom clothes and hair added on top. Those body templates are (as named in game files):\n",
    "\n",
    "|Body type|Description    |Example characters     |\n",
    "|---------|---------------|-----------------------|\n",
    "|Boy      |Teenage male   |Albedo, Gorou, Kazuha  |\n",
    "|Male     |Young male     |Zhongli, Itto, Diluc   |\n",
    "|Loli     |Child female   |Klee, Sayu, Diona      |\n",
    "|Girl     |Teenage female |Sucrose, Ayaka, Kokomi |\n",
    "|Lady     |Young female   |Jean, Shogun, Sara     |\n",
    "\n",
    "Since traveller's sex is chosen by the player, he or she is listed in a separate category.\n",
    "Girl body type is the most popular here."
   ]
  },
  {
   "cell_type": "code",
   "execution_count": null,
   "id": "44fd241d",
   "metadata": {
    "scrolled": false
   },
   "outputs": [],
   "source": [
    "simple_visualisation(\"body\")"
   ]
  },
  {
   "cell_type": "markdown",
   "id": "7ab82410",
   "metadata": {},
   "source": [
    "### Categorised by wielded weapon"
   ]
  },
  {
   "cell_type": "markdown",
   "id": "51c9c62b",
   "metadata": {},
   "source": [
    "Polearms were the least popular weapon initially, but they are catching up now. Bows, on the other hand, jumped from the second least popular weapon to the position of the most popular weapon. Why is everyone calling it \"Polearm Impact\" when it's in fact \"Bow Impact\"?"
   ]
  },
  {
   "cell_type": "code",
   "execution_count": null,
   "id": "d4e0cca4",
   "metadata": {},
   "outputs": [],
   "source": [
    "simple_visualisation(\"weapon\")"
   ]
  },
  {
   "cell_type": "markdown",
   "id": "b4002a3a",
   "metadata": {},
   "source": [
    "### Categorised by home region\n",
    "Traveller and Aloy do not have a home region within Teyvat, so they are listed in a separate category. Inazuma rises at a really fast pace."
   ]
  },
  {
   "cell_type": "code",
   "execution_count": null,
   "id": "2da0c0dd",
   "metadata": {},
   "outputs": [],
   "source": [
    "simple_visualisation(\"region\")"
   ]
  },
  {
   "cell_type": "markdown",
   "id": "5d643e68",
   "metadata": {},
   "source": [
    "### Categorised by vision element\n",
    "Traveller technically doesn't have a vision, and his or her element can be switched, so there's a separate category for him or her."
   ]
  },
  {
   "cell_type": "code",
   "execution_count": null,
   "id": "7589da2f",
   "metadata": {},
   "outputs": [],
   "source": [
    "simple_visualisation(\"vision\")"
   ]
  },
  {
   "cell_type": "markdown",
   "id": "828da289",
   "metadata": {},
   "source": [
    "### Categorised by quality\n",
    "The number of ☆☆☆☆☆ characters vs the number of ☆☆☆☆ characters. There was a good balance at the start, but they mihoyo'd it up. "
   ]
  },
  {
   "cell_type": "code",
   "execution_count": null,
   "id": "be8cebcb",
   "metadata": {},
   "outputs": [],
   "source": [
    "simple_visualisation(\"quality\")"
   ]
  },
  {
   "cell_type": "markdown",
   "id": "30cbfb5b",
   "metadata": {},
   "source": [
    "## Divided visualisation"
   ]
  },
  {
   "cell_type": "markdown",
   "id": "b13e8cd1",
   "metadata": {},
   "source": [
    "Comparing category distribution between different categories. It's hard to explain using words, luckily, I don't have to."
   ]
  },
  {
   "cell_type": "code",
   "execution_count": null,
   "id": "5688b6a6",
   "metadata": {},
   "outputs": [],
   "source": [
    "def divided_visualisation(column, divided_by):\n",
    "    divisions = df[divided_by].unique()\n",
    "    \n",
    "    if len(divisions) <= 3:\n",
    "        nrows = 1\n",
    "        ncols = len(divisions)\n",
    "    else:\n",
    "        ncols = 3\n",
    "        nrows = int(len(divisions) / ncols) + 1\n",
    "        \n",
    "    fig, ax = plt.subplots(nrows, ncols, figsize=(6 * ncols, 5 * nrows))\n",
    "    \n",
    "    if nrows == 1:    \n",
    "        for i, division in enumerate(divisions):\n",
    "            ax[i].set_title(division, fontweight=\"bold\", pad=20)\n",
    "            group_sizes = df[getattr(df, divided_by) == division].groupby(column, as_index=False).size()\n",
    "            ax[i].pie(group_sizes[\"size\"], labels=group_sizes[column], autopct=\"%1.1f%%\")\n",
    "    else:\n",
    "        for x, division in enumerate(divisions):\n",
    "            i = int(x / ncols)\n",
    "            j = x % ncols\n",
    "            \n",
    "            ax[i, j].set_title(division, fontweight=\"bold\", pad=20)\n",
    "            group_sizes = df[getattr(df, divided_by) == division].groupby(column, as_index=False).size()\n",
    "            ax[i, j].pie(group_sizes[\"size\"], labels=group_sizes[column], autopct=\"%1.1f%%\")\n",
    "            \n",
    "        j += 1\n",
    "        while j < ncols:\n",
    "            ax[i, j].set_visible(False)\n",
    "            j += 1\n",
    "\n",
    "    fig.suptitle(f\"Playable character distribution by {column} divided by {divided_by}\", fontsize=16)\n",
    "    fig.tight_layout()\n",
    "    plt.show()"
   ]
  },
  {
   "cell_type": "markdown",
   "id": "eb7c6366",
   "metadata": {},
   "source": [
    "### Categorised by wielded weapon, compared between sexes\n",
    "Interesting how there are no male catalyst users at all, while it's the most popular weapon among female characters. At the same time, swords and claymores are much more popular among male characters."
   ]
  },
  {
   "cell_type": "code",
   "execution_count": null,
   "id": "17123fa6",
   "metadata": {
    "scrolled": false
   },
   "outputs": [],
   "source": [
    "divided_visualisation(\"weapon\", \"sex\")"
   ]
  },
  {
   "cell_type": "markdown",
   "id": "8bd335ce",
   "metadata": {},
   "source": [
    "### Categorised by wielded weapon, compared between ages\n",
    "Looks like bows and swords are more popular among teenage characters, but claymores and polearms are more popular among adult characters."
   ]
  },
  {
   "cell_type": "code",
   "execution_count": null,
   "id": "f26d2311",
   "metadata": {
    "scrolled": false
   },
   "outputs": [],
   "source": [
    "divided_visualisation(\"weapon\", \"age\")"
   ]
  },
  {
   "cell_type": "markdown",
   "id": "4442af2f",
   "metadata": {},
   "source": [
    "### Categorised by age, compared between sexes\n",
    "The percentage of teenage male and teenage female characters is almost the same. And also, there are no male children."
   ]
  },
  {
   "cell_type": "code",
   "execution_count": null,
   "id": "7ba78ea2",
   "metadata": {
    "scrolled": false
   },
   "outputs": [],
   "source": [
    "divided_visualisation(\"age\", \"sex\")"
   ]
  },
  {
   "cell_type": "markdown",
   "id": "9a275643",
   "metadata": {},
   "source": [
    "### Categorised by vision, compared between sexes\n",
    "Geo and anemo are much more popular among male characters, while cryo and electro are much more popular among female characters."
   ]
  },
  {
   "cell_type": "code",
   "execution_count": null,
   "id": "6fa6b6d0",
   "metadata": {
    "scrolled": false
   },
   "outputs": [],
   "source": [
    "divided_visualisation(\"vision\", \"sex\")"
   ]
  },
  {
   "cell_type": "markdown",
   "id": "b06875f9",
   "metadata": {},
   "source": [
    "### Categorised by age, compared between vision elements\n",
    "Looks like pyro and anemo are the least \"adult\" elements while geo and electro are the most \"adult\" elements."
   ]
  },
  {
   "cell_type": "code",
   "execution_count": null,
   "id": "ebc86679",
   "metadata": {
    "scrolled": false
   },
   "outputs": [],
   "source": [
    "divided_visualisation(\"age\", \"vision\")"
   ]
  },
  {
   "cell_type": "markdown",
   "id": "62528725",
   "metadata": {},
   "source": [
    "### Categorised by vision, compared between wielded weapons\n",
    "Looks like the most iconic duos are: hydro with a catalyst and pyro with a polearm."
   ]
  },
  {
   "cell_type": "code",
   "execution_count": null,
   "id": "06e4737a",
   "metadata": {},
   "outputs": [],
   "source": [
    "divided_visualisation(\"vision\", \"weapon\")"
   ]
  },
  {
   "cell_type": "markdown",
   "id": "f1961b0f",
   "metadata": {},
   "source": [
    "### Categorised by wielded weapon, compared between regions\n",
    "Looks like the following regions have such signature weapons: catalyst in Mondstadt, bow is Inazuma and polearm in Liyue."
   ]
  },
  {
   "cell_type": "code",
   "execution_count": null,
   "id": "08d977ed",
   "metadata": {},
   "outputs": [],
   "source": [
    "divided_visualisation(\"weapon\", \"region\")"
   ]
  },
  {
   "cell_type": "markdown",
   "id": "f1b1801f",
   "metadata": {},
   "source": [
    "### Categorised by home region, compared between quality\n",
    "Half of all four-star charactes are from Mondstadt, and five-star characters are equally distributed between released regions."
   ]
  },
  {
   "cell_type": "code",
   "execution_count": null,
   "id": "6891933a",
   "metadata": {},
   "outputs": [],
   "source": [
    "divided_visualisation(\"region\", \"quality\")"
   ]
  },
  {
   "cell_type": "markdown",
   "id": "495c8256",
   "metadata": {},
   "source": [
    "### Categorised by quality, compared between vision elements\n",
    "Electro visions have the largest percentage of four-star characters. Shame on you, Baal.\n",
    "At the same time, anemo characters are mostly five-star."
   ]
  },
  {
   "cell_type": "code",
   "execution_count": null,
   "id": "14d2d809",
   "metadata": {
    "scrolled": false
   },
   "outputs": [],
   "source": [
    "divided_visualisation(\"quality\", \"vision\")"
   ]
  },
  {
   "cell_type": "markdown",
   "id": "f3590536",
   "metadata": {},
   "source": [
    "## Misc"
   ]
  },
  {
   "cell_type": "markdown",
   "id": "b8c9e2e4",
   "metadata": {},
   "source": [
    "Just having a ball here. Here's a graph showing how the average name length of playable characters changed over time. Since traveller's name is chosen by the player, he or she isn't taken into account.\n",
    "\n",
    "Typical character name after Snezhnaya comes out: \"Petrov Rostislav Yakovlevich\"."
   ]
  },
  {
   "cell_type": "code",
   "execution_count": null,
   "id": "81c6f5e8",
   "metadata": {},
   "outputs": [],
   "source": [
    "avg_name_length_per_date = []\n",
    "\n",
    "for date in df.sort_values(\"release\", ascending=False)[\"release\"].unique():\n",
    "    avg_name_length_per_date.append((date, df[df.release <= date][\"name\"][df.name != \"traveller\"].apply(len).mean()))\n",
    "\n",
    "avg_name_length_per_date.reverse()\n",
    "avg_name_length_per_date = np.array(avg_name_length_per_date)\n",
    "x_axis = list(map(dt.datetime.strptime, avg_name_length_per_date[:,0], avg_name_length_per_date.shape[0] * [\"%Y-%m-%d\"]))\n",
    "y_axis = list(map(float, avg_name_length_per_date[:,1]))\n",
    "\n",
    "f = plt.figure()\n",
    "f.set_figwidth(8)\n",
    "f.set_figheight(4)\n",
    "\n",
    "plt.step(x_axis, y_axis, marker=\"o\", markersize=4, where=\"post\")\n",
    "plt.title(\"Average playable character name length\")\n",
    "plt.show()"
   ]
  }
 ],
 "metadata": {
  "kernelspec": {
   "display_name": "Python 3 (ipykernel)",
   "language": "python",
   "name": "python3"
  },
  "language_info": {
   "codemirror_mode": {
    "name": "ipython",
    "version": 3
   },
   "file_extension": ".py",
   "mimetype": "text/x-python",
   "name": "python",
   "nbconvert_exporter": "python",
   "pygments_lexer": "ipython3",
   "version": "3.9.9"
  }
 },
 "nbformat": 4,
 "nbformat_minor": 5
}
