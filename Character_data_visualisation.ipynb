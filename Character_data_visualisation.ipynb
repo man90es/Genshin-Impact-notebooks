{
 "cells": [
  {
   "cell_type": "markdown",
   "id": "ffcf6b0d",
   "metadata": {},
   "source": [
    "# Character data visualisation"
   ]
  },
  {
   "cell_type": "code",
   "execution_count": null,
   "id": "722e82d4",
   "metadata": {},
   "outputs": [],
   "source": [
    "import datetime as dt\n",
    "import math\n",
    "import matplotlib.pyplot as plt\n",
    "import matplotlib.ticker as ticker\n",
    "import numpy as np\n",
    "import pandas as pd"
   ]
  },
  {
   "cell_type": "code",
   "execution_count": null,
   "id": "f09e997b",
   "metadata": {},
   "outputs": [],
   "source": [
    "df = pd.read_csv(\"./datasets/characters.csv\")\n",
    "date_format = \"%Y-%m-%d\""
   ]
  },
  {
   "cell_type": "code",
   "execution_count": null,
   "id": "449a2523",
   "metadata": {},
   "outputs": [],
   "source": [
    "def label_age(row):\n",
    "    if row[\"body\"] == \"loli\":\n",
    "        return \"child\"\n",
    "    if row[\"body\"] == \"boy\" or row[\"body\"] == \"girl\" or row[\"body\"] == \"boy/girl\":\n",
    "        return \"teenage\"\n",
    "    if row[\"body\"] == \"male\" or row[\"body\"] == \"lady\":\n",
    "        return \"adult\"\n",
    "\n",
    "df[\"age\"] = df.apply(lambda row: label_age(row), axis=1)\n",
    "\n",
    "# Used for stretching all categories to the right\n",
    "max_date = dt.datetime.strptime(df[\"release\"].max(), date_format)"
   ]
  },
  {
   "cell_type": "markdown",
   "id": "9f934410",
   "metadata": {},
   "source": [
    "## Simple visualisation\n",
    "Pie charts on the left show how characters are currently distributed within different categories (or how they were the last time when the dataset was updated). Graphs on the right show how the number of characters in each category changed over time."
   ]
  },
  {
   "cell_type": "code",
   "execution_count": null,
   "id": "674cf26e",
   "metadata": {},
   "outputs": [],
   "source": [
    "def simple_visualisation(column):\n",
    "    fig, ax = plt.subplots(1, 2, figsize=(12, 5), gridspec_kw={\"width_ratios\": [3, 5]})\n",
    "    fig.suptitle(f\"Playable character distribution by {column}\", fontsize=16)\n",
    "    ax[0].set_title(\"Current\", fontweight=\"bold\", pad=20)\n",
    "    ax[1].set_title(\"Historical\", fontweight=\"bold\", pad=20)\n",
    "    \n",
    "    # Only display whole values on the step graph y axis\n",
    "    ax[1].yaxis.set_major_locator(ticker.MaxNLocator(integer=True))\n",
    "\n",
    "    group_sizes = df.groupby(column, as_index=False).size()\n",
    "\n",
    "    ax[0].pie(group_sizes[\"size\"], labels=group_sizes[column], autopct=\"%1.1f%%\")\n",
    "\n",
    "    for column_val in group_sizes[column]:\n",
    "        column_val_by_date = df[getattr(df, column) == column_val].groupby(\"release\").size()\n",
    "\n",
    "        for date in reversed(column_val_by_date.axes[0]):\n",
    "            column_val_by_date[date] = column_val_by_date[column_val_by_date.axes[0] <= date].values.sum()\n",
    "\n",
    "        x_axis = list(map(dt.datetime.strptime, column_val_by_date.axes[0], len(column_val_by_date.axes[0]) * [date_format]))\n",
    "        y_axis = column_val_by_date.values.tolist()\n",
    "\n",
    "        # This should stretch all categories to the right\n",
    "        if (x_axis[len(x_axis) - 1] < max_date):\n",
    "            x_axis.append(max_date)\n",
    "            y_axis.append(y_axis[len(y_axis) - 1])\n",
    "\n",
    "        ax[1].step(x_axis, y_axis, label=column_val, marker=\"o\", markersize=4, where=\"post\")\n",
    "\n",
    "    fig.tight_layout()\n",
    "    plt.show()\n",
    "\n",
    "    print(group_sizes)"
   ]
  },
  {
   "cell_type": "markdown",
   "id": "6b6c8820",
   "metadata": {},
   "source": [
    "### Categorised by sex\n",
    "Since traveller's sex is selected by the player, he or she is listed in a separate category."
   ]
  },
  {
   "cell_type": "code",
   "execution_count": null,
   "id": "55195cee",
   "metadata": {},
   "outputs": [],
   "source": [
    "simple_visualisation(\"sex\")"
   ]
  },
  {
   "cell_type": "markdown",
   "id": "13340805",
   "metadata": {},
   "source": [
    "## Categorised by age"
   ]
  },
  {
   "cell_type": "code",
   "execution_count": null,
   "id": "34aedede",
   "metadata": {},
   "outputs": [],
   "source": [
    "simple_visualisation(\"age\")"
   ]
  },
  {
   "cell_type": "markdown",
   "id": "9611da8b",
   "metadata": {},
   "source": [
    "### Categorised by body type\n",
    "All playable characters in Genshin Impact use one of the five body templates with custom clothes and hair added on top. Those body templates are (as named in game files):\n",
    "\n",
    "|Body type|Description    |Example characters     |\n",
    "|---------|---------------|-----------------------|\n",
    "|Boy      |Teenage male   |Albedo, Gorou, Kazuha  |\n",
    "|Male     |Young male     |Zhongli, Itto, Diluc   |\n",
    "|Loli     |Child female   |Klee, Sayu, Diona      |\n",
    "|Girl     |Teenage female |Sucrose, Ayaka, Kokomi |\n",
    "|Lady     |Young female   |Jean, Shogun, Sara     |\n",
    "\n",
    "Since traveller's sex is chosen by the player, he or she is listed in a separate category."
   ]
  },
  {
   "cell_type": "code",
   "execution_count": null,
   "id": "44fd241d",
   "metadata": {
    "scrolled": false
   },
   "outputs": [],
   "source": [
    "simple_visualisation(\"body\")"
   ]
  },
  {
   "cell_type": "markdown",
   "id": "7ab82410",
   "metadata": {},
   "source": [
    "### Categorised by wielded weapon"
   ]
  },
  {
   "cell_type": "code",
   "execution_count": null,
   "id": "d4e0cca4",
   "metadata": {},
   "outputs": [],
   "source": [
    "simple_visualisation(\"weapon\")"
   ]
  },
  {
   "cell_type": "markdown",
   "id": "b4002a3a",
   "metadata": {},
   "source": [
    "### Categorised by home region\n",
    "Traveller and Aloy do not have a home region within Teyvat, so they are listed in a separate category."
   ]
  },
  {
   "cell_type": "code",
   "execution_count": null,
   "id": "2da0c0dd",
   "metadata": {},
   "outputs": [],
   "source": [
    "simple_visualisation(\"region\")"
   ]
  },
  {
   "cell_type": "markdown",
   "id": "5d643e68",
   "metadata": {},
   "source": [
    "### Categorised by vision element\n",
    "Traveller technically doesn't have a vision, and his or her element can be switched, so there's a separate category for him or her."
   ]
  },
  {
   "cell_type": "code",
   "execution_count": null,
   "id": "7589da2f",
   "metadata": {},
   "outputs": [],
   "source": [
    "simple_visualisation(\"vision\")"
   ]
  },
  {
   "cell_type": "markdown",
   "id": "828da289",
   "metadata": {},
   "source": [
    "### Categorised by quality\n",
    "The number of ☆☆☆☆☆ characters vs the number of ☆☆☆☆ characters."
   ]
  },
  {
   "cell_type": "code",
   "execution_count": null,
   "id": "be8cebcb",
   "metadata": {},
   "outputs": [],
   "source": [
    "simple_visualisation(\"quality\")"
   ]
  },
  {
   "cell_type": "markdown",
   "id": "30cbfb5b",
   "metadata": {},
   "source": [
    "## Divided visualisation\n",
    "Comparing category distribution between different categories."
   ]
  },
  {
   "cell_type": "code",
   "execution_count": null,
   "id": "5688b6a6",
   "metadata": {},
   "outputs": [],
   "source": [
    "def divided_visualisation(column, divided_by):\n",
    "    divisions = df[divided_by].unique()\n",
    "    \n",
    "    if len(divisions) <= 3:\n",
    "        nrows = 1\n",
    "        ncols = len(divisions)\n",
    "    else:\n",
    "        ncols = 3\n",
    "        nrows = math.ceil(len(divisions) / ncols)\n",
    "        \n",
    "    fig, ax = plt.subplots(nrows, ncols, figsize=(6 * ncols, 5 * nrows))\n",
    "    \n",
    "    if nrows == 1:    \n",
    "        for i, division in enumerate(divisions):\n",
    "            ax[i].set_title(division, fontweight=\"bold\", pad=20)\n",
    "            group_sizes = df[getattr(df, divided_by) == division].groupby(column, as_index=False).size()\n",
    "            ax[i].pie(group_sizes[\"size\"], labels=group_sizes[column], autopct=\"%1.1f%%\")\n",
    "    else:\n",
    "        for x, division in enumerate(divisions):\n",
    "            i = int(x / ncols)\n",
    "            j = x % ncols\n",
    "            \n",
    "            ax[i, j].set_title(division, fontweight=\"bold\", pad=20)\n",
    "            group_sizes = df[getattr(df, divided_by) == division].groupby(column, as_index=False).size()\n",
    "            ax[i, j].pie(group_sizes[\"size\"], labels=group_sizes[column], autopct=\"%1.1f%%\")\n",
    "            \n",
    "        j += 1\n",
    "        while j < ncols:\n",
    "            ax[i, j].set_visible(False)\n",
    "            j += 1\n",
    "\n",
    "    fig.suptitle(f\"Playable character distribution by {column} divided by {divided_by}\", fontsize=16)\n",
    "    fig.tight_layout()\n",
    "    plt.show()"
   ]
  },
  {
   "cell_type": "markdown",
   "id": "eb7c6366",
   "metadata": {},
   "source": [
    "### Categorised by wielded weapon, compared between sexes"
   ]
  },
  {
   "cell_type": "code",
   "execution_count": null,
   "id": "17123fa6",
   "metadata": {
    "scrolled": false
   },
   "outputs": [],
   "source": [
    "divided_visualisation(\"weapon\", \"sex\")"
   ]
  },
  {
   "cell_type": "markdown",
   "id": "8bd335ce",
   "metadata": {},
   "source": [
    "### Categorised by wielded weapon, compared between ages"
   ]
  },
  {
   "cell_type": "code",
   "execution_count": null,
   "id": "f26d2311",
   "metadata": {
    "scrolled": false
   },
   "outputs": [],
   "source": [
    "divided_visualisation(\"weapon\", \"age\")"
   ]
  },
  {
   "cell_type": "markdown",
   "id": "4442af2f",
   "metadata": {},
   "source": [
    "### Categorised by age, compared between sexes"
   ]
  },
  {
   "cell_type": "code",
   "execution_count": null,
   "id": "7ba78ea2",
   "metadata": {
    "scrolled": false
   },
   "outputs": [],
   "source": [
    "divided_visualisation(\"age\", \"sex\")"
   ]
  },
  {
   "cell_type": "markdown",
   "id": "9a275643",
   "metadata": {},
   "source": [
    "### Categorised by vision, compared between sexes"
   ]
  },
  {
   "cell_type": "code",
   "execution_count": null,
   "id": "6fa6b6d0",
   "metadata": {
    "scrolled": false
   },
   "outputs": [],
   "source": [
    "divided_visualisation(\"vision\", \"sex\")"
   ]
  },
  {
   "cell_type": "markdown",
   "id": "b06875f9",
   "metadata": {},
   "source": [
    "### Categorised by age, compared between vision elements"
   ]
  },
  {
   "cell_type": "code",
   "execution_count": null,
   "id": "ebc86679",
   "metadata": {
    "scrolled": false
   },
   "outputs": [],
   "source": [
    "divided_visualisation(\"age\", \"vision\")"
   ]
  },
  {
   "cell_type": "markdown",
   "id": "62528725",
   "metadata": {},
   "source": [
    "### Categorised by vision, compared between wielded weapons"
   ]
  },
  {
   "cell_type": "code",
   "execution_count": null,
   "id": "06e4737a",
   "metadata": {},
   "outputs": [],
   "source": [
    "divided_visualisation(\"vision\", \"weapon\")"
   ]
  },
  {
   "cell_type": "markdown",
   "id": "f1961b0f",
   "metadata": {},
   "source": [
    "### Categorised by wielded weapon, compared between regions"
   ]
  },
  {
   "cell_type": "code",
   "execution_count": null,
   "id": "08d977ed",
   "metadata": {},
   "outputs": [],
   "source": [
    "divided_visualisation(\"weapon\", \"region\")"
   ]
  },
  {
   "cell_type": "markdown",
   "id": "f1b1801f",
   "metadata": {},
   "source": [
    "### Categorised by home region, compared between quality"
   ]
  },
  {
   "cell_type": "code",
   "execution_count": null,
   "id": "6891933a",
   "metadata": {},
   "outputs": [],
   "source": [
    "divided_visualisation(\"region\", \"quality\")"
   ]
  },
  {
   "cell_type": "markdown",
   "id": "495c8256",
   "metadata": {},
   "source": [
    "### Categorised by quality, compared between vision elements"
   ]
  },
  {
   "cell_type": "code",
   "execution_count": null,
   "id": "14d2d809",
   "metadata": {
    "scrolled": false
   },
   "outputs": [],
   "source": [
    "divided_visualisation(\"quality\", \"vision\")"
   ]
  },
  {
   "cell_type": "markdown",
   "id": "f3590536",
   "metadata": {},
   "source": [
    "## Misc"
   ]
  },
  {
   "cell_type": "code",
   "execution_count": null,
   "id": "81c6f5e8",
   "metadata": {},
   "outputs": [],
   "source": [
    "avg_name_length_per_date = []\n",
    "\n",
    "for date in df.sort_values(\"release\", ascending=False)[\"release\"].unique():\n",
    "    avg_name_length_per_date.append((date, df[df.release <= date][\"name\"][df.name != \"traveller\"].apply(len).mean()))\n",
    "\n",
    "avg_name_length_per_date.reverse()\n",
    "avg_name_length_per_date = np.array(avg_name_length_per_date)\n",
    "x_axis = list(map(dt.datetime.strptime, avg_name_length_per_date[:,0], avg_name_length_per_date.shape[0] * [\"%Y-%m-%d\"]))\n",
    "y_axis = list(map(float, avg_name_length_per_date[:,1]))\n",
    "\n",
    "f = plt.figure()\n",
    "f.set_figwidth(8)\n",
    "f.set_figheight(4)\n",
    "\n",
    "plt.step(x_axis, y_axis, marker=\"o\", markersize=4, where=\"post\")\n",
    "plt.title(\"Average playable character name length\")\n",
    "plt.show()"
   ]
  }
 ],
 "metadata": {
  "kernelspec": {
   "display_name": "Python 3 (ipykernel)",
   "language": "python",
   "name": "python3"
  },
  "language_info": {
   "codemirror_mode": {
    "name": "ipython",
    "version": 3
   },
   "file_extension": ".py",
   "mimetype": "text/x-python",
   "name": "python",
   "nbconvert_exporter": "python",
   "pygments_lexer": "ipython3",
   "version": "3.10.6"
  }
 },
 "nbformat": 4,
 "nbformat_minor": 5
}
